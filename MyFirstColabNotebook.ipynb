{
  "nbformat": 4,
  "nbformat_minor": 0,
  "metadata": {
    "colab": {
      "name": "MyFirstColabNotebook.ipynb",
      "provenance": [],
      "authorship_tag": "ABX9TyNZhNGLA+iC341TrNsasUEP",
      "include_colab_link": true
    },
    "kernelspec": {
      "name": "python3",
      "display_name": "Python 3"
    }
  },
  "cells": [
    {
      "cell_type": "markdown",
      "metadata": {
        "id": "view-in-github",
        "colab_type": "text"
      },
      "source": [
        "<a href=\"https://colab.research.google.com/github/AyodejiIbimilua/funnybot/blob/master/MyFirstColabNotebook.ipynb\" target=\"_parent\"><img src=\"https://colab.research.google.com/assets/colab-badge.svg\" alt=\"Open In Colab\"/></a>"
      ]
    },
    {
      "cell_type": "code",
      "metadata": {
        "id": "-eDXL-GphoK4",
        "colab_type": "code",
        "colab": {
          "base_uri": "https://localhost:8080/",
          "height": 35
        },
        "outputId": "feeb316b-2676-4af9-8ffc-31754b14090c"
      },
      "source": [
        "import time\n",
        "print(time.ctime())"
      ],
      "execution_count": 1,
      "outputs": [
        {
          "output_type": "stream",
          "text": [
            "Sat Jul  4 11:18:51 2020\n"
          ],
          "name": "stdout"
        }
      ]
    },
    {
      "cell_type": "code",
      "metadata": {
        "id": "G8o_-h5giWcQ",
        "colab_type": "code",
        "colab": {
          "base_uri": "https://localhost:8080/",
          "height": 35
        },
        "outputId": "ba96f2ca-3e88-40ed-cfb1-88032ec9fb57"
      },
      "source": [
        "time.sleep(10)\n",
        "print(time.ctime())"
      ],
      "execution_count": null,
      "outputs": [
        {
          "output_type": "stream",
          "text": [
            "Sat Jul  4 11:19:01 2020\n"
          ],
          "name": "stdout"
        }
      ]
    },
    {
      "cell_type": "markdown",
      "metadata": {
        "id": "YyEvmH8RkycT",
        "colab_type": "text"
      },
      "source": [
        "This is **bold** \\\\\n",
        "This is *italics* \\\\\n",
        "This is ~strikethrough~"
      ]
    },
    {
      "cell_type": "markdown",
      "metadata": {
        "id": "X06hHPNhl4zV",
        "colab_type": "text"
      },
      "source": [
        "$\\sqrt\\frac{6x - 3}{x^2}x^3$"
      ]
    },
    {
      "cell_type": "markdown",
      "metadata": {
        "id": "wclh8r7nmR7e",
        "colab_type": "text"
      },
      "source": [
        "$e = \\sum_{i=0}^{34}\\frac{1}{1!}$"
      ]
    },
    {
      "cell_type": "markdown",
      "metadata": {
        "id": "lROEF2c2oHBh",
        "colab_type": "text"
      },
      "source": [
        "Constraints are\n",
        "   - $3x_1 + 6x_2 + x_3 =< 28$\n",
        "   - $7x_1 + 3x_2 + 2x_3 =< 37$\n",
        "   - $4x_1 + 5x_2 + 2x_3 =< 19$\n",
        "   - $x_1,x_2,x_3 >=0 $"
      ]
    },
    {
      "cell_type": "markdown",
      "metadata": {
        "id": "8dkbvOdcoj7d",
        "colab_type": "text"
      },
      "source": [
        "The trial vector is calculated as follows:\n",
        "- $u_i(t) = x_i(t) + \\beta(\\hat{x}(t) − x_i(t)) + \\beta \\sum_{k = 1}^{n_v}(x_{i1,k}(t) − x_{i2,k}(t))$\n",
        "$f(x_1, x_2) = 20 + e - 20exp(-0.2 \\sqrt {\\frac {1}{n} (x_1^2 + x_2^2)}) - exp (\\frac {1}{n}(cos(2\\pi x_1) + cos(2\\pi x_2))$"
      ]
    },
    {
      "cell_type": "markdown",
      "metadata": {
        "id": "nbrqjNcfo8FO",
        "colab_type": "text"
      },
      "source": [
        "$x ∈ [-5, 5]$"
      ]
    },
    {
      "cell_type": "markdown",
      "metadata": {
        "id": "sSAOF20mpOdN",
        "colab_type": "text"
      },
      "source": [
        "$A_{m,n} =\n",
        "   \\begin{pmatrix}\n",
        "   a_{1,1} > a_{1,2} > \\cdots > a_{1,n} \\\\\n",
        "   a_{2,1} > a_{2,2} > \\cdots > a_{2,n} \\\\\n",
        "   \\vdots > \\vdots > \\ddots > \\vdots \\\\\n",
        "   a_{m,1} > a_{m,2} > \\cdots > a_{m,n}\n",
        "   \\end{pmatrix}$"
      ]
    }
  ]
}